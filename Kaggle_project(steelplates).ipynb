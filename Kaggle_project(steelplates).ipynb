{
  "nbformat": 4,
  "nbformat_minor": 0,
  "metadata": {
    "colab": {
      "provenance": [],
      "authorship_tag": "ABX9TyNHvM9d9rEkb5Hh8pKULyOb",
      "include_colab_link": true
    },
    "kernelspec": {
      "name": "python3",
      "display_name": "Python 3"
    },
    "language_info": {
      "name": "python"
    }
  },
  "cells": [
    {
      "cell_type": "markdown",
      "metadata": {
        "id": "view-in-github",
        "colab_type": "text"
      },
      "source": [
        "<a href=\"https://colab.research.google.com/github/Kusumash28/my-project/blob/main/Kaggle_project(steelplates).ipynb\" target=\"_parent\"><img src=\"https://colab.research.google.com/assets/colab-badge.svg\" alt=\"Open In Colab\"/></a>"
      ]
    },
    {
      "cell_type": "code",
      "execution_count": null,
      "metadata": {
        "colab": {
          "base_uri": "https://localhost:8080/",
          "height": 1000
        },
        "id": "pw3MULAwydXF",
        "outputId": "abbe9be7-e0fe-42fc-e2f0-4bae15cd7aa2"
      },
      "outputs": [
        {
          "output_type": "stream",
          "name": "stdout",
          "text": [
            "\n",
            "🔍 Validation Accuracy (Average across labels): 0.8924\n",
            "\n",
            "--- Pastry ---\n",
            "              precision    recall  f1-score   support\n",
            "\n",
            "           0       0.92      1.00      0.96      3543\n",
            "           1       0.61      0.05      0.09       301\n",
            "\n",
            "    accuracy                           0.92      3844\n",
            "   macro avg       0.77      0.52      0.52      3844\n",
            "weighted avg       0.90      0.92      0.89      3844\n",
            "\n",
            "--- Z_Scratch ---\n",
            "              precision    recall  f1-score   support\n",
            "\n",
            "           0       0.97      0.99      0.98      3624\n",
            "           1       0.69      0.44      0.54       220\n",
            "\n",
            "    accuracy                           0.96      3844\n",
            "   macro avg       0.83      0.71      0.76      3844\n",
            "weighted avg       0.95      0.96      0.95      3844\n",
            "\n",
            "--- K_Scatch ---\n",
            "              precision    recall  f1-score   support\n",
            "\n",
            "           0       0.98      0.98      0.98      3162\n",
            "           1       0.91      0.90      0.90       682\n",
            "\n",
            "    accuracy                           0.97      3844\n",
            "   macro avg       0.94      0.94      0.94      3844\n",
            "weighted avg       0.97      0.97      0.97      3844\n",
            "\n",
            "--- Stains ---\n",
            "              precision    recall  f1-score   support\n",
            "\n",
            "           0       0.99      0.99      0.99      3744\n",
            "           1       0.61      0.65      0.63       100\n",
            "\n",
            "    accuracy                           0.98      3844\n",
            "   macro avg       0.80      0.82      0.81      3844\n",
            "weighted avg       0.98      0.98      0.98      3844\n",
            "\n",
            "--- Dirtiness ---\n",
            "              precision    recall  f1-score   support\n",
            "\n",
            "           0       0.98      1.00      0.99      3759\n",
            "           1       0.50      0.06      0.11        85\n",
            "\n",
            "    accuracy                           0.98      3844\n",
            "   macro avg       0.74      0.53      0.55      3844\n",
            "weighted avg       0.97      0.98      0.97      3844\n",
            "\n",
            "--- Bumps ---\n",
            "              precision    recall  f1-score   support\n",
            "\n",
            "           0       0.80      0.94      0.86      2918\n",
            "           1       0.57      0.26      0.36       926\n",
            "\n",
            "    accuracy                           0.77      3844\n",
            "   macro avg       0.68      0.60      0.61      3844\n",
            "weighted avg       0.74      0.77      0.74      3844\n",
            "\n",
            "--- Other_Faults ---\n",
            "              precision    recall  f1-score   support\n",
            "\n",
            "           0       0.69      0.89      0.78      2495\n",
            "           1       0.56      0.26      0.35      1349\n",
            "\n",
            "    accuracy                           0.67      3844\n",
            "   macro avg       0.63      0.57      0.57      3844\n",
            "weighted avg       0.64      0.67      0.63      3844\n",
            "\n",
            "\n",
            "✅ Submission file 'submission.csv' is ready.\n"
          ]
        },
        {
          "output_type": "display_data",
          "data": {
            "text/plain": [
              "<IPython.core.display.Javascript object>"
            ],
            "application/javascript": [
              "\n",
              "    async function download(id, filename, size) {\n",
              "      if (!google.colab.kernel.accessAllowed) {\n",
              "        return;\n",
              "      }\n",
              "      const div = document.createElement('div');\n",
              "      const label = document.createElement('label');\n",
              "      label.textContent = `Downloading \"${filename}\": `;\n",
              "      div.appendChild(label);\n",
              "      const progress = document.createElement('progress');\n",
              "      progress.max = size;\n",
              "      div.appendChild(progress);\n",
              "      document.body.appendChild(div);\n",
              "\n",
              "      const buffers = [];\n",
              "      let downloaded = 0;\n",
              "\n",
              "      const channel = await google.colab.kernel.comms.open(id);\n",
              "      // Send a message to notify the kernel that we're ready.\n",
              "      channel.send({})\n",
              "\n",
              "      for await (const message of channel.messages) {\n",
              "        // Send a message to notify the kernel that we're ready.\n",
              "        channel.send({})\n",
              "        if (message.buffers) {\n",
              "          for (const buffer of message.buffers) {\n",
              "            buffers.push(buffer);\n",
              "            downloaded += buffer.byteLength;\n",
              "            progress.value = downloaded;\n",
              "          }\n",
              "        }\n",
              "      }\n",
              "      const blob = new Blob(buffers, {type: 'application/binary'});\n",
              "      const a = document.createElement('a');\n",
              "      a.href = window.URL.createObjectURL(blob);\n",
              "      a.download = filename;\n",
              "      div.appendChild(a);\n",
              "      a.click();\n",
              "      div.remove();\n",
              "    }\n",
              "  "
            ]
          },
          "metadata": {}
        },
        {
          "output_type": "display_data",
          "data": {
            "text/plain": [
              "<IPython.core.display.Javascript object>"
            ],
            "application/javascript": [
              "download(\"download_7767fd44-1705-40a6-8750-43a9a65f2f71\", \"submission.csv\", 487365)"
            ]
          },
          "metadata": {}
        }
      ],
      "source": [
        "#  Step 1: Install and import necessary libraries\n",
        "import pandas as pd\n",
        "import numpy as np\n",
        "from sklearn.model_selection import train_test_split\n",
        "from sklearn.ensemble import RandomForestClassifier\n",
        "from sklearn.multioutput import MultiOutputClassifier\n",
        "from sklearn.preprocessing import StandardScaler\n",
        "from sklearn.metrics import accuracy_score, classification_report\n",
        "from google.colab import files\n",
        "\n",
        "#  Step 2: Load datasets\n",
        "train = pd.read_csv(\"/content/train.csv\")\n",
        "test = pd.read_csv(\"/content/test.csv\")\n",
        "sample_submission = pd.read_csv(\"/content/sample_submission.csv\")\n",
        "\n",
        "#  Step 3: Define features and targets\n",
        "target_cols = [\"Pastry\", \"Z_Scratch\", \"K_Scatch\", \"Stains\", \"Dirtiness\", \"Bumps\", \"Other_Faults\"]\n",
        "feature_cols = [col for col in train.columns if col not in ['id'] + target_cols]\n",
        "\n",
        "X = train[feature_cols]\n",
        "y = train[target_cols]\n",
        "X_test = test[feature_cols]\n",
        "\n",
        "#  Step 4: Preprocessing (Scaling)\n",
        "scaler = StandardScaler()\n",
        "X_scaled = scaler.fit_transform(X)\n",
        "X_test_scaled = scaler.transform(X_test)\n",
        "\n",
        "#  Step 5: Split for validation\n",
        "X_train_split, X_val_split, y_train_split, y_val_split = train_test_split(\n",
        "    X_scaled, y, test_size=0.2, random_state=42\n",
        ")\n",
        "\n",
        "#  Step 6: Train Multi-label Classifier\n",
        "clf = MultiOutputClassifier(RandomForestClassifier(n_estimators=100, random_state=42))\n",
        "clf.fit(X_train_split, y_train_split)\n",
        "\n",
        "#  Step 7: Evaluate accuracy on validation set\n",
        "y_val_pred = clf.predict(X_val_split)\n",
        "val_accuracy = np.mean([accuracy_score(y_val_split[col], y_val_pred[:, idx])\n",
        "                        for idx, col in enumerate(target_cols)])\n",
        "print(f\"\\n🔍 Validation Accuracy (Average across labels): {val_accuracy:.4f}\\n\")\n",
        "\n",
        "# Optional: Print classification report for each label\n",
        "for idx, col in enumerate(target_cols):\n",
        "    print(f\"--- {col} ---\")\n",
        "    print(classification_report(y_val_split[col], y_val_pred[:, idx]))\n",
        "\n",
        "#  Step 8: Predict probabilities on test set\n",
        "y_test_proba = clf.predict_proba(X_test_scaled)\n",
        "# Extract probabilities\n",
        "submission = pd.DataFrame({'id': test['id']})\n",
        "for i, col in enumerate(target_cols):\n",
        "    submission[col] = y_test_proba[i][:, 1]  # Probability of class 1\n",
        "\n",
        "#  Step 9: Save submission file\n",
        "submission.to_csv(\"submission.csv\", index=False)\n",
        "print(\"\\n✅ Submission file 'submission.csv' is ready.\")\n",
        "\n",
        "#  Step 10: Download submission file\n",
        "files.download(\"submission.csv\")\n"
      ]
    },
    {
      "cell_type": "code",
      "source": [
        "# Install LightGBM if not already installed\n",
        "!pip install lightgbm --quiet\n",
        "\n",
        "# Step 1: Imports\n",
        "import pandas as pd\n",
        "import numpy as np\n",
        "from sklearn.model_selection import train_test_split\n",
        "from sklearn.preprocessing import StandardScaler\n",
        "from sklearn.metrics import roc_auc_score\n",
        "import lightgbm as lgb"
      ],
      "metadata": {
        "id": "3k8VyM48tnS9"
      },
      "execution_count": null,
      "outputs": []
    },
    {
      "cell_type": "code",
      "source": [
        "from google.colab import files  # Upload train.csv and test.csv manually in runtime\n",
        "\n",
        "# Step 3: Read the datasets\n",
        "train_df = pd.read_csv('/content/train.csv')\n",
        "test_df = pd.read_csv('/content/test.csv')"
      ],
      "metadata": {
        "id": "bfaN6trpuVas"
      },
      "execution_count": null,
      "outputs": []
    },
    {
      "cell_type": "code",
      "source": [
        "# Step 4: Set target columns and features\n",
        "target_columns = ['Pastry', 'Z_Scratch', 'K_Scatch', 'Stains', 'Dirtiness', 'Bumps', 'Other_Faults']\n",
        "feature_columns = [col for col in train_df.columns if col not in target_columns + ['id']]\n",
        "\n",
        "X = train_df[feature_columns]\n",
        "y = train_df[target_columns]\n",
        "X_test = test_df[feature_columns]\n",
        "ids = test_df['id']\n",
        "\n",
        "# Optional: Scale features\n",
        "scaler = StandardScaler()\n",
        "X_scaled = scaler.fit_transform(X)\n",
        "X_test_scaled = scaler.transform(X_test)"
      ],
      "metadata": {
        "id": "PDALqnckugoM"
      },
      "execution_count": null,
      "outputs": []
    },
    {
      "cell_type": "code",
      "source": [
        "predictions = pd.DataFrame({'id': ids})\n",
        "auc_scores = {}\n",
        "\n",
        "for defect in target_columns:\n",
        "    print(f\"Training for defect: {defect}\")\n",
        "\n",
        "    X_train, X_val, y_train, y_val = train_test_split(\n",
        "        X_scaled, y[defect], test_size=0.2, random_state=42\n",
        "    )\n",
        "\n",
        "    train_data = lgb.Dataset(X_train, label=y_train)\n",
        "    val_data = lgb.Dataset(X_val, label=y_val)\n",
        "\n",
        "    params = {\n",
        "        'objective': 'binary',\n",
        "        'metric': 'auc',\n",
        "        'verbosity': -1,\n",
        "        'boosting_type': 'gbdt',\n",
        "        'learning_rate': 0.05,\n",
        "        'num_leaves': 31,\n",
        "        'random_state': 42\n",
        "    }\n",
        "\n",
        "    model = lgb.train(\n",
        "        params,\n",
        "        train_data,\n",
        "        valid_sets=[val_data],\n",
        "        num_boost_round=1000,\n",
        "        callbacks=[lgb.early_stopping(stopping_rounds=50)]\n",
        "    )\n",
        "\n",
        "\n",
        "    val_pred = model.predict(X_val)\n",
        "    auc = roc_auc_score(y_val, val_pred)\n",
        "    auc_scores[defect] = auc\n",
        "\n",
        "    test_pred = model.predict(X_test_scaled)\n",
        "    predictions[defect] = test_pred"
      ],
      "metadata": {
        "colab": {
          "base_uri": "https://localhost:8080/"
        },
        "id": "1J6FP2Ktvk7B",
        "outputId": "397f87fa-b545-4bbe-e747-be5ec810969c"
      },
      "execution_count": null,
      "outputs": [
        {
          "output_type": "stream",
          "name": "stdout",
          "text": [
            "Training for defect: Pastry\n",
            "Training until validation scores don't improve for 50 rounds\n",
            "Early stopping, best iteration is:\n",
            "[23]\tvalid_0's auc: 0.875113\n",
            "Training for defect: Z_Scratch\n",
            "Training until validation scores don't improve for 50 rounds\n",
            "Early stopping, best iteration is:\n",
            "[266]\tvalid_0's auc: 0.959764\n",
            "Training for defect: K_Scatch\n",
            "Training until validation scores don't improve for 50 rounds\n",
            "Early stopping, best iteration is:\n",
            "[88]\tvalid_0's auc: 0.986918\n",
            "Training for defect: Stains\n",
            "Training until validation scores don't improve for 50 rounds\n",
            "Early stopping, best iteration is:\n",
            "[7]\tvalid_0's auc: 0.990592\n",
            "Training for defect: Dirtiness\n",
            "Training until validation scores don't improve for 50 rounds\n",
            "Early stopping, best iteration is:\n",
            "[121]\tvalid_0's auc: 0.878813\n",
            "Training for defect: Bumps\n",
            "Training until validation scores don't improve for 50 rounds\n",
            "Early stopping, best iteration is:\n",
            "[129]\tvalid_0's auc: 0.80435\n",
            "Training for defect: Other_Faults\n",
            "Training until validation scores don't improve for 50 rounds\n",
            "Early stopping, best iteration is:\n",
            "[48]\tvalid_0's auc: 0.711418\n"
          ]
        }
      ]
    },
    {
      "cell_type": "code",
      "source": [
        "# Step 6: Save submission file\n",
        "predictions.to_csv('submission.csv', index=False)\n",
        "files.download(\"submission.csv\")\n",
        "print(\"✅ Submission file saved as 'submission.csv'\")\n",
        "\n",
        "# Step 7: Print AUC scores\n",
        "print(\"\\n🔍 AUC Scores per defect category:\")\n",
        "for defect, score in auc_scores.items():\n",
        "    print(f\"{defect}: {score:.4f}\")\n",
        "\n",
        "print(f\"\\n🎯 Mean AUC Score: {np.mean(list(auc_scores.values())):.4f}\")"
      ],
      "metadata": {
        "colab": {
          "base_uri": "https://localhost:8080/",
          "height": 225
        },
        "id": "ndxX0clxvldq",
        "outputId": "8e167deb-4c14-4cf6-ddd0-b1bc9023e066"
      },
      "execution_count": null,
      "outputs": [
        {
          "output_type": "display_data",
          "data": {
            "text/plain": [
              "<IPython.core.display.Javascript object>"
            ],
            "application/javascript": [
              "\n",
              "    async function download(id, filename, size) {\n",
              "      if (!google.colab.kernel.accessAllowed) {\n",
              "        return;\n",
              "      }\n",
              "      const div = document.createElement('div');\n",
              "      const label = document.createElement('label');\n",
              "      label.textContent = `Downloading \"${filename}\": `;\n",
              "      div.appendChild(label);\n",
              "      const progress = document.createElement('progress');\n",
              "      progress.max = size;\n",
              "      div.appendChild(progress);\n",
              "      document.body.appendChild(div);\n",
              "\n",
              "      const buffers = [];\n",
              "      let downloaded = 0;\n",
              "\n",
              "      const channel = await google.colab.kernel.comms.open(id);\n",
              "      // Send a message to notify the kernel that we're ready.\n",
              "      channel.send({})\n",
              "\n",
              "      for await (const message of channel.messages) {\n",
              "        // Send a message to notify the kernel that we're ready.\n",
              "        channel.send({})\n",
              "        if (message.buffers) {\n",
              "          for (const buffer of message.buffers) {\n",
              "            buffers.push(buffer);\n",
              "            downloaded += buffer.byteLength;\n",
              "            progress.value = downloaded;\n",
              "          }\n",
              "        }\n",
              "      }\n",
              "      const blob = new Blob(buffers, {type: 'application/binary'});\n",
              "      const a = document.createElement('a');\n",
              "      a.href = window.URL.createObjectURL(blob);\n",
              "      a.download = filename;\n",
              "      div.appendChild(a);\n",
              "      a.click();\n",
              "      div.remove();\n",
              "    }\n",
              "  "
            ]
          },
          "metadata": {}
        },
        {
          "output_type": "display_data",
          "data": {
            "text/plain": [
              "<IPython.core.display.Javascript object>"
            ],
            "application/javascript": [
              "download(\"download_f68b806b-badc-45c1-b7c2-a2bc15373612\", \"submission.csv\", 1914308)"
            ]
          },
          "metadata": {}
        },
        {
          "output_type": "stream",
          "name": "stdout",
          "text": [
            "✅ Submission file saved as 'submission.csv'\n",
            "\n",
            "🔍 AUC Scores per defect category:\n",
            "Pastry: 0.8751\n",
            "Z_Scratch: 0.9598\n",
            "K_Scatch: 0.9869\n",
            "Stains: 0.9906\n",
            "Dirtiness: 0.8788\n",
            "Bumps: 0.8043\n",
            "Other_Faults: 0.7114\n",
            "\n",
            "🎯 Mean AUC Score: 0.8867\n"
          ]
        }
      ]
    },
    {
      "cell_type": "code",
      "source": [
        "!pip install lightgbm --quiet\n",
        "\n",
        "# Step 1: Imports\n",
        "import pandas as pd\n",
        "import numpy as np\n",
        "from sklearn.model_selection import train_test_split, StratifiedKFold\n",
        "from sklearn.preprocessing import StandardScaler\n",
        "from sklearn.metrics import roc_auc_score\n",
        "import lightgbm as lgb"
      ],
      "metadata": {
        "id": "bOr2kENRwPyZ"
      },
      "execution_count": null,
      "outputs": []
    },
    {
      "cell_type": "code",
      "source": [
        "# Step 2: Upload datasets (train.csv and test.csv)\n",
        "from google.colab import files  # upload train.csv and test.csv\n",
        "\n",
        "# Step 3: Read datasets\n",
        "train_df = pd.read_csv(\"/content/train.csv\")\n",
        "test_df = pd.read_csv(\"/content/test.csv\")\n",
        "\n",
        "# Step 4: Define features and targets\n",
        "target_columns = ['Pastry', 'Z_Scratch', 'K_Scatch', 'Stains', 'Dirtiness', 'Bumps', 'Other_Faults']\n",
        "feature_columns = [col for col in train_df.columns if col not in target_columns + ['id']]\n",
        "\n",
        "X = train_df[feature_columns]\n",
        "y = train_df[target_columns]\n",
        "X_test = test_df[feature_columns]\n",
        "ids = test_df['id']\n",
        "\n",
        "# Optional: Scaling features\n",
        "scaler = StandardScaler()\n",
        "X_scaled = scaler.fit_transform(X)\n",
        "X_test_scaled = scaler.transform(X_test)"
      ],
      "metadata": {
        "id": "rjZyNe42xX9V"
      },
      "execution_count": null,
      "outputs": []
    },
    {
      "cell_type": "code",
      "source": [
        "# Step 5: Train models\n",
        "predictions = pd.DataFrame({'id': ids})\n",
        "auc_scores = {}\n",
        "\n",
        "for defect in target_columns:\n",
        "    print(f\"\\n🚀 Training model for: {defect}\")\n",
        "\n",
        "    # Handle class imbalance\n",
        "    pos_weight = (len(y) - y[defect].sum()) / y[defect].sum()\n",
        "\n",
        "    # Split with stratification on the current defect label\n",
        "    X_train, X_val, y_train, y_val = train_test_split(\n",
        "        X_scaled, y[defect], test_size=0.2, stratify=y[defect], random_state=42\n",
        "    )\n",
        "\n",
        "    train_data = lgb.Dataset(X_train, label=y_train)\n",
        "    val_data = lgb.Dataset(X_val, label=y_val)\n",
        "\n",
        "    params = {\n",
        "        'objective': 'binary',\n",
        "        'metric': 'auc',\n",
        "        'verbosity': -1,\n",
        "        'boosting_type': 'gbdt',\n",
        "        'learning_rate': 0.03,\n",
        "        'num_leaves': 40,\n",
        "        'max_depth': 8,\n",
        "        'scale_pos_weight': pos_weight,\n",
        "        'random_state': 42\n",
        "    }\n",
        "\n",
        "    model = lgb.train(\n",
        "        params,\n",
        "        train_data,\n",
        "        valid_sets=[val_data],\n",
        "        num_boost_round=1500,\n",
        "        callbacks=[lgb.early_stopping(stopping_rounds=50)]\n",
        "    )\n",
        "\n",
        "    val_pred = model.predict(X_val, num_iteration=model.best_iteration)\n",
        "    auc = roc_auc_score(y_val, val_pred)\n",
        "    auc_scores[defect] = auc\n",
        "\n",
        "    # Predict for test\n",
        "    test_pred = model.predict(X_test_scaled, num_iteration=model.best_iteration)\n",
        "    predictions[defect] = test_pred"
      ],
      "metadata": {
        "colab": {
          "base_uri": "https://localhost:8080/"
        },
        "id": "7Wi-apcixhum",
        "outputId": "f73b8865-61de-4888-c08f-922c46afac62"
      },
      "execution_count": null,
      "outputs": [
        {
          "output_type": "stream",
          "name": "stdout",
          "text": [
            "\n",
            "🚀 Training model for: Pastry\n",
            "Training until validation scores don't improve for 50 rounds\n",
            "Early stopping, best iteration is:\n",
            "[145]\tvalid_0's auc: 0.859689\n",
            "\n",
            "🚀 Training model for: Z_Scratch\n",
            "Training until validation scores don't improve for 50 rounds\n",
            "Early stopping, best iteration is:\n",
            "[108]\tvalid_0's auc: 0.959229\n",
            "\n",
            "🚀 Training model for: K_Scatch\n",
            "Training until validation scores don't improve for 50 rounds\n",
            "Early stopping, best iteration is:\n",
            "[140]\tvalid_0's auc: 0.986271\n",
            "\n",
            "🚀 Training model for: Stains\n",
            "Training until validation scores don't improve for 50 rounds\n",
            "Early stopping, best iteration is:\n",
            "[155]\tvalid_0's auc: 0.993742\n",
            "\n",
            "🚀 Training model for: Dirtiness\n",
            "Training until validation scores don't improve for 50 rounds\n",
            "Early stopping, best iteration is:\n",
            "[5]\tvalid_0's auc: 0.858321\n",
            "\n",
            "🚀 Training model for: Bumps\n",
            "Training until validation scores don't improve for 50 rounds\n",
            "Early stopping, best iteration is:\n",
            "[158]\tvalid_0's auc: 0.807706\n",
            "\n",
            "🚀 Training model for: Other_Faults\n",
            "Training until validation scores don't improve for 50 rounds\n",
            "Early stopping, best iteration is:\n",
            "[89]\tvalid_0's auc: 0.706636\n"
          ]
        }
      ]
    },
    {
      "cell_type": "code",
      "source": [
        "# Step 6: Save predictions\n",
        "predictions.to_csv(\"submission.csv\", index=False)\n",
        "print(\"✅ Submission file saved as 'submission.csv'\")\n",
        "\n",
        "# Step 7: AUC Results\n",
        "print(\"\\n🎯 AUC Scores:\")\n",
        "for defect, score in auc_scores.items():\n",
        "    print(f\"{defect}: {score:.4f}\")\n",
        "print(f\"\\n🔥 Average AUC Score: {np.mean(list(auc_scores.values())):.4f}\")"
      ],
      "metadata": {
        "colab": {
          "base_uri": "https://localhost:8080/"
        },
        "id": "qHoVMOchxpfl",
        "outputId": "eb991033-aac5-4ff5-ddd7-3568b89e547c"
      },
      "execution_count": null,
      "outputs": [
        {
          "output_type": "stream",
          "name": "stdout",
          "text": [
            "✅ Submission file saved as 'submission.csv'\n",
            "\n",
            "🎯 AUC Scores:\n",
            "Pastry: 0.8597\n",
            "Z_Scratch: 0.9592\n",
            "K_Scatch: 0.9863\n",
            "Stains: 0.9937\n",
            "Dirtiness: 0.8583\n",
            "Bumps: 0.8077\n",
            "Other_Faults: 0.7066\n",
            "\n",
            "🔥 Average AUC Score: 0.8817\n"
          ]
        }
      ]
    },
    {
      "cell_type": "code",
      "source": [],
      "metadata": {
        "id": "9ZYzmVyNxtVu"
      },
      "execution_count": null,
      "outputs": []
    }
  ]
}